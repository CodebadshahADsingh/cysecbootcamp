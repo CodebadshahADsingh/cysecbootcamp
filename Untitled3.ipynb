{
  "nbformat": 4,
  "nbformat_minor": 0,
  "metadata": {
    "colab": {
      "name": "Untitled3.ipynb",
      "provenance": []
    },
    "kernelspec": {
      "name": "python3",
      "display_name": "Python 3"
    },
    "language_info": {
      "name": "python"
    }
  },
  "cells": [
    {
      "cell_type": "code",
      "metadata": {
        "colab": {
          "base_uri": "https://localhost:8080/"
        },
        "id": "vqNOH5PowZOR",
        "outputId": "03d0d68b-48e9-4136-f82e-a89fd8491fbb"
      },
      "source": [
        "import requests\n",
        "from datetime import datetime\n",
        "\n",
        "api_key = '09a4d8c2fd07be5903f984a0d2b429dc'\n",
        "location = input(\"Enter the city name: \")\n",
        "\n",
        "complete_api_link = \"https://api.openweathermap.org/data/2.5/weather?q=\"+location+\"&appid=\"+api_key\n",
        "api_link = requests.get(complete_api_link)\n",
        "api_data = api_link.json()\n",
        "\n",
        "temp_city = ((api_data['main']['temp']) - 273.15)\n",
        "weather_desc = api_data['weather'][0]['description']\n",
        "hmdt = api_data['main']['humidity']\n",
        "wind_spd = api_data['wind']['speed']\n",
        "date_time = datetime.now().strftime(\"%d %b %Y | %I:%M:%S %p\")\n",
        "\n",
        "print (\"=============================================================\")\n",
        "print (\"Weather Stats for - {}  || {}\".format(location.upper(), date_time))\n",
        "print (\"=================================================================\")\n",
        "\n",
        "print (\"Current temperature is: {:.2f} deg C\".format(temp_city))\n",
        "print (\"Current weather desc  :\",weather_desc)\n",
        "print (\"Current Humidity      :\",hmdt, '%')\n",
        "print (\"Current wind speed    :\",wind_spd ,'kmph')\n",
        "\n",
        "\n",
        "\n",
        "f=open(\"demofile3.txt\",\"w\")\n",
        "f.write(f'Current temperature is {temp_city}')\n",
        "f.close()\n",
        "print(\"weather conditions are displayed\")"
      ],
      "execution_count": 6,
      "outputs": [
        {
          "output_type": "stream",
          "text": [
            "Enter the city name: delhi\n",
            "=============================================================\n",
            "Weather Stats for - DELHI  || 23 Jun 2021 | 07:50:10 AM\n",
            "=================================================================\n",
            "Current temperature is: 39.05 deg C\n",
            "Current weather desc  : haze\n",
            "Current Humidity      : 27 %\n",
            "Current wind speed    : 2.57 kmph\n",
            "weather conditions are displayed\n"
          ],
          "name": "stdout"
        }
      ]
    }
  ]
}